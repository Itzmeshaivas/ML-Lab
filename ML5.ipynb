{
 "cells": [
  {
   "cell_type": "code",
   "execution_count": 16,
   "id": "d74c1264-81cc-4ee6-9fab-ec59f65f1bac",
   "metadata": {},
   "outputs": [],
   "source": [
    "import numpy as np\n",
    "import pandas as pd\n",
    "import matplotlib.pyplot as plt\n",
    "import seaborn as sns\n",
    "from sklearn.model_selection import train_test_split\n",
    "from sklearn.neighbors import KNeighborsClassifier\n",
    "from sklearn.metrics import accuracy_score"
   ]
  },
  {
   "cell_type": "code",
   "execution_count": 17,
   "id": "10afb0f2-e6c0-40fb-b107-ce1d7783c456",
   "metadata": {},
   "outputs": [],
   "source": [
    "import warnings\n",
    "warnings.filterwarnings('ignore')"
   ]
  },
  {
   "cell_type": "code",
   "execution_count": 18,
   "id": "ce0da96d-5bcb-4ba9-9a7a-ccc7542af3e7",
   "metadata": {},
   "outputs": [
    {
     "name": "stdout",
     "output_type": "stream",
     "text": [
      "['Class1', 'Class2', 'Class2', 'Class2', 'Class1', 'Class1', 'Class1', 'Class2', 'Class2', 'Class2', 'Class1', 'Class2', 'Class2', 'Class1', 'Class1', 'Class1', 'Class1', 'Class2', 'Class1', 'Class1', 'Class2', 'Class1', 'Class1', 'Class1', 'Class1', 'Class2', 'Class1', 'Class2', 'Class2', 'Class1', 'Class2', 'Class1', 'Class1', 'Class2', 'Class2', 'Class2', 'Class1', 'Class1', 'Class2', 'Class1', 'Class1', 'Class1', 'Class1', 'Class2', 'Class1', 'Class2', 'Class1', 'Class2', 'Class2', 'Class1', None, None, None, None, None, None, None, None, None, None, None, None, None, None, None, None, None, None, None, None, None, None, None, None, None, None, None, None, None, None, None, None, None, None, None, None, None, None, None, None, None, None, None, None, None, None, None, None, None, None]\n"
     ]
    }
   ],
   "source": [
    "np.random.seed(42)\n",
    "values=np.random.rand(100)\n",
    "labels=[]\n",
    "for i in values[:50]:\n",
    "    if i<=0.5:\n",
    "        labels.append('Class1')\n",
    "    else:\n",
    "        labels.append('Class2')\n",
    "labels+=[None]*50\n",
    "print(labels)"
   ]
  },
  {
   "cell_type": "code",
   "execution_count": 19,
   "id": "0bc0715e-a46b-4394-8282-d4776a983cc5",
   "metadata": {},
   "outputs": [
    {
     "name": "stdout",
     "output_type": "stream",
     "text": [
      "{'point': ['x1', 'x2', 'x3', 'x4', 'x5', 'x6', 'x7', 'x8', 'x9', 'x10', 'x11', 'x12', 'x13', 'x14', 'x15', 'x16', 'x17', 'x18', 'x19', 'x20', 'x21', 'x22', 'x23', 'x24', 'x25', 'x26', 'x27', 'x28', 'x29', 'x30', 'x31', 'x32', 'x33', 'x34', 'x35', 'x36', 'x37', 'x38', 'x39', 'x40', 'x41', 'x42', 'x43', 'x44', 'x45', 'x46', 'x47', 'x48', 'x49', 'x50', 'x51', 'x52', 'x53', 'x54', 'x55', 'x56', 'x57', 'x58', 'x59', 'x60', 'x61', 'x62', 'x63', 'x64', 'x65', 'x66', 'x67', 'x68', 'x69', 'x70', 'x71', 'x72', 'x73', 'x74', 'x75', 'x76', 'x77', 'x78', 'x79', 'x80', 'x81', 'x82', 'x83', 'x84', 'x85', 'x86', 'x87', 'x88', 'x89', 'x90', 'x91', 'x92', 'x93', 'x94', 'x95', 'x96', 'x97', 'x98', 'x99', 'x100'], 'Value': array([0.37454012, 0.95071431, 0.73199394, 0.59865848, 0.15601864,\n",
      "       0.15599452, 0.05808361, 0.86617615, 0.60111501, 0.70807258,\n",
      "       0.02058449, 0.96990985, 0.83244264, 0.21233911, 0.18182497,\n",
      "       0.18340451, 0.30424224, 0.52475643, 0.43194502, 0.29122914,\n",
      "       0.61185289, 0.13949386, 0.29214465, 0.36636184, 0.45606998,\n",
      "       0.78517596, 0.19967378, 0.51423444, 0.59241457, 0.04645041,\n",
      "       0.60754485, 0.17052412, 0.06505159, 0.94888554, 0.96563203,\n",
      "       0.80839735, 0.30461377, 0.09767211, 0.68423303, 0.44015249,\n",
      "       0.12203823, 0.49517691, 0.03438852, 0.9093204 , 0.25877998,\n",
      "       0.66252228, 0.31171108, 0.52006802, 0.54671028, 0.18485446,\n",
      "       0.96958463, 0.77513282, 0.93949894, 0.89482735, 0.59789998,\n",
      "       0.92187424, 0.0884925 , 0.19598286, 0.04522729, 0.32533033,\n",
      "       0.38867729, 0.27134903, 0.82873751, 0.35675333, 0.28093451,\n",
      "       0.54269608, 0.14092422, 0.80219698, 0.07455064, 0.98688694,\n",
      "       0.77224477, 0.19871568, 0.00552212, 0.81546143, 0.70685734,\n",
      "       0.72900717, 0.77127035, 0.07404465, 0.35846573, 0.11586906,\n",
      "       0.86310343, 0.62329813, 0.33089802, 0.06355835, 0.31098232,\n",
      "       0.32518332, 0.72960618, 0.63755747, 0.88721274, 0.47221493,\n",
      "       0.11959425, 0.71324479, 0.76078505, 0.5612772 , 0.77096718,\n",
      "       0.4937956 , 0.52273283, 0.42754102, 0.02541913, 0.10789143]), 'Label': ['Class1', 'Class2', 'Class2', 'Class2', 'Class1', 'Class1', 'Class1', 'Class2', 'Class2', 'Class2', 'Class1', 'Class2', 'Class2', 'Class1', 'Class1', 'Class1', 'Class1', 'Class2', 'Class1', 'Class1', 'Class2', 'Class1', 'Class1', 'Class1', 'Class1', 'Class2', 'Class1', 'Class2', 'Class2', 'Class1', 'Class2', 'Class1', 'Class1', 'Class2', 'Class2', 'Class2', 'Class1', 'Class1', 'Class2', 'Class1', 'Class1', 'Class1', 'Class1', 'Class2', 'Class1', 'Class2', 'Class1', 'Class2', 'Class2', 'Class1', None, None, None, None, None, None, None, None, None, None, None, None, None, None, None, None, None, None, None, None, None, None, None, None, None, None, None, None, None, None, None, None, None, None, None, None, None, None, None, None, None, None, None, None, None, None, None, None, None, None]}\n"
     ]
    },
    {
     "data": {
      "text/plain": [
       "dict"
      ]
     },
     "execution_count": 19,
     "metadata": {},
     "output_type": "execute_result"
    }
   ],
   "source": [
    "data={\"point\":[f\"x{i+1}\" for i in range(100)],\n",
    "      \"Value\":values,\n",
    "      \"Label\":labels\n",
    "}\n",
    "print(data)\n",
    "type(data)"
   ]
  },
  {
   "cell_type": "code",
   "execution_count": 20,
   "id": "2245b100-b103-437c-a235-045fa7e179da",
   "metadata": {},
   "outputs": [
    {
     "data": {
      "text/html": [
       "<div>\n",
       "<style scoped>\n",
       "    .dataframe tbody tr th:only-of-type {\n",
       "        vertical-align: middle;\n",
       "    }\n",
       "\n",
       "    .dataframe tbody tr th {\n",
       "        vertical-align: top;\n",
       "    }\n",
       "\n",
       "    .dataframe thead th {\n",
       "        text-align: right;\n",
       "    }\n",
       "</style>\n",
       "<table border=\"1\" class=\"dataframe\">\n",
       "  <thead>\n",
       "    <tr style=\"text-align: right;\">\n",
       "      <th></th>\n",
       "      <th>point</th>\n",
       "      <th>Value</th>\n",
       "      <th>Label</th>\n",
       "    </tr>\n",
       "  </thead>\n",
       "  <tbody>\n",
       "    <tr>\n",
       "      <th>0</th>\n",
       "      <td>x1</td>\n",
       "      <td>0.374540</td>\n",
       "      <td>Class1</td>\n",
       "    </tr>\n",
       "    <tr>\n",
       "      <th>1</th>\n",
       "      <td>x2</td>\n",
       "      <td>0.950714</td>\n",
       "      <td>Class2</td>\n",
       "    </tr>\n",
       "    <tr>\n",
       "      <th>2</th>\n",
       "      <td>x3</td>\n",
       "      <td>0.731994</td>\n",
       "      <td>Class2</td>\n",
       "    </tr>\n",
       "    <tr>\n",
       "      <th>3</th>\n",
       "      <td>x4</td>\n",
       "      <td>0.598658</td>\n",
       "      <td>Class2</td>\n",
       "    </tr>\n",
       "    <tr>\n",
       "      <th>4</th>\n",
       "      <td>x5</td>\n",
       "      <td>0.156019</td>\n",
       "      <td>Class1</td>\n",
       "    </tr>\n",
       "  </tbody>\n",
       "</table>\n",
       "</div>"
      ],
      "text/plain": [
       "  point     Value   Label\n",
       "0    x1  0.374540  Class1\n",
       "1    x2  0.950714  Class2\n",
       "2    x3  0.731994  Class2\n",
       "3    x4  0.598658  Class2\n",
       "4    x5  0.156019  Class1"
      ]
     },
     "execution_count": 20,
     "metadata": {},
     "output_type": "execute_result"
    }
   ],
   "source": [
    " df=pd.DataFrame(data)\n",
    "df.head()"
   ]
  },
  {
   "cell_type": "code",
   "execution_count": 21,
   "id": "4ae335d0-4bf0-4450-af14-cde2e63b9655",
   "metadata": {},
   "outputs": [
    {
     "data": {
      "text/plain": [
       "point    100\n",
       "Value    100\n",
       "Label      2\n",
       "dtype: int64"
      ]
     },
     "execution_count": 21,
     "metadata": {},
     "output_type": "execute_result"
    }
   ],
   "source": [
    "df.nunique()"
   ]
  },
  {
   "cell_type": "code",
   "execution_count": 22,
   "id": "b274bad2-04c1-47cb-8686-0a3e8d0c3e6b",
   "metadata": {},
   "outputs": [
    {
     "data": {
      "text/plain": [
       "(100, 3)"
      ]
     },
     "execution_count": 22,
     "metadata": {},
     "output_type": "execute_result"
    }
   ],
   "source": [
    "df.shape"
   ]
  },
  {
   "cell_type": "code",
   "execution_count": 23,
   "id": "952f043f-d5b6-4461-a537-39ada6603dd4",
   "metadata": {},
   "outputs": [
    {
     "name": "stdout",
     "output_type": "stream",
     "text": [
      "<class 'pandas.core.frame.DataFrame'>\n",
      "RangeIndex: 100 entries, 0 to 99\n",
      "Data columns (total 3 columns):\n",
      " #   Column  Non-Null Count  Dtype  \n",
      "---  ------  --------------  -----  \n",
      " 0   point   100 non-null    object \n",
      " 1   Value   100 non-null    float64\n",
      " 2   Label   50 non-null     object \n",
      "dtypes: float64(1), object(2)\n",
      "memory usage: 2.5+ KB\n"
     ]
    }
   ],
   "source": [
    "df.info()"
   ]
  },
  {
   "cell_type": "code",
   "execution_count": 24,
   "id": "02668920-490b-4f43-92fc-74d008875716",
   "metadata": {},
   "outputs": [
    {
     "data": {
      "text/html": [
       "<div>\n",
       "<style scoped>\n",
       "    .dataframe tbody tr th:only-of-type {\n",
       "        vertical-align: middle;\n",
       "    }\n",
       "\n",
       "    .dataframe tbody tr th {\n",
       "        vertical-align: top;\n",
       "    }\n",
       "\n",
       "    .dataframe thead th {\n",
       "        text-align: right;\n",
       "    }\n",
       "</style>\n",
       "<table border=\"1\" class=\"dataframe\">\n",
       "  <thead>\n",
       "    <tr style=\"text-align: right;\">\n",
       "      <th></th>\n",
       "      <th>count</th>\n",
       "      <th>mean</th>\n",
       "      <th>std</th>\n",
       "      <th>min</th>\n",
       "      <th>25%</th>\n",
       "      <th>50%</th>\n",
       "      <th>75%</th>\n",
       "      <th>max</th>\n",
       "    </tr>\n",
       "  </thead>\n",
       "  <tbody>\n",
       "    <tr>\n",
       "      <th>Value</th>\n",
       "      <td>100.0</td>\n",
       "      <td>0.470181</td>\n",
       "      <td>0.297489</td>\n",
       "      <td>0.005522</td>\n",
       "      <td>0.193201</td>\n",
       "      <td>0.464142</td>\n",
       "      <td>0.730203</td>\n",
       "      <td>0.986887</td>\n",
       "    </tr>\n",
       "  </tbody>\n",
       "</table>\n",
       "</div>"
      ],
      "text/plain": [
       "       count      mean       std       min       25%       50%       75%  \\\n",
       "Value  100.0  0.470181  0.297489  0.005522  0.193201  0.464142  0.730203   \n",
       "\n",
       "            max  \n",
       "Value  0.986887  "
      ]
     },
     "execution_count": 24,
     "metadata": {},
     "output_type": "execute_result"
    }
   ],
   "source": [
    "df.describe().T"
   ]
  },
  {
   "cell_type": "code",
   "execution_count": 25,
   "id": "7054260b-1520-4765-98eb-b7c4330959d6",
   "metadata": {},
   "outputs": [
    {
     "data": {
      "text/plain": [
       "point     0\n",
       "Value     0\n",
       "Label    50\n",
       "dtype: int64"
      ]
     },
     "execution_count": 25,
     "metadata": {},
     "output_type": "execute_result"
    }
   ],
   "source": [
    "df.isnull().sum()"
   ]
  },
  {
   "cell_type": "code",
   "execution_count": 26,
   "id": "027ea7da-b555-4e34-a744-78359adb4526",
   "metadata": {},
   "outputs": [
    {
     "data": {
      "image/png": "[encoded data removed]",
      "text/plain": [
       "<Figure size 640x480 with 1 Axes>"
      ]
     },
     "metadata": {},
     "output_type": "display_data"
    }
   ],
   "source": [
    "num_col=df.select_dtypes(include=['int','float']).columns\n",
    "for col in num_col:\n",
    "    df[col].hist(bins=10,alpha=0.5,edgecolor='black',grid=False)\n",
    "    plt.title(f'Histogram for {col}')\n",
    "    plt.xlabel(col)\n",
    "    plt.ylabel('frequency')\n",
    "    plt.show()"
   ]
  },
  {
   "cell_type": "code",
   "execution_count": 48,
   "id": "1b82fb5a-4578-4423-804f-53bc25faaa94",
   "metadata": {},
   "outputs": [],
   "source": [
    "labeled_df=df[df[\"Label\"].notna()]\n",
    "X_train=labeled_df[[\"Value\"]]\n",
    "Y_train=labeled_df[\"Label\"]\n",
    "unlabeled_df=df[df[\"Label\"].isna()]\n",
    "X_test=unlabeled_df[[\"Value\"]]\n",
    "\n"
   ]
  },
  {
   "cell_type": "code",
   "execution_count": 49,
   "id": "7ab1178d-3436-40ca-8574-28bfce08bf65",
   "metadata": {},
   "outputs": [],
   "source": [
    "true_labels=[\"Class1\" if x<=0.5 else \"Class2\" for x in values[50:]]"
   ]
  },
  {
   "cell_type": "code",
   "execution_count": 53,
   "id": "e1979473-dc4f-4a64-887b-f34f8dda1e96",
   "metadata": {},
   "outputs": [],
   "source": [
    "k_values=[1,2,3,4,5,20,30]\n",
    "results={}\n",
    "accuracies={}\n",
    "for k in k_values:\n",
    "    knn=KNeighborsClassifier(n_neighbors=k)\n",
    "    knn.fit(X_train,Y_train)\n",
    "    predictions=knn.predict(X_test)\n",
    "    results[k]=predictions"
   ]
  },
  {
   "cell_type": "code",
   "execution_count": 54,
   "id": "b33a8421-fe12-49d4-8ee9-51d934799093",
   "metadata": {},
   "outputs": [
    {
     "name": "stdout",
     "output_type": "stream",
     "text": [
      "Accuracy for k=30:100.00%\n"
     ]
    }
   ],
   "source": [
    "accuracy=accuracy_score(true_labels,predictions)*100\n",
    "accuracies[k]=accuracy\n",
    "print(f\"Accuracy for k={k}:{accuracy:.2f}%\")\n",
    "unlabeled_df[f\"Label_k{k}\"]=predictions"
   ]
  },
  {
   "cell_type": "code",
   "execution_count": 55,
   "id": "fc86e832-3b1a-4056-b79d-7d474c096490",
   "metadata": {},
   "outputs": [
    {
     "name": "stdout",
     "output_type": "stream",
     "text": [
      "['Class2' 'Class2' 'Class2' 'Class2' 'Class2' 'Class2' 'Class1' 'Class1'\n",
      " 'Class1' 'Class1' 'Class1' 'Class1' 'Class2' 'Class1' 'Class1' 'Class2'\n",
      " 'Class1' 'Class2' 'Class1' 'Class2' 'Class2' 'Class1' 'Class1' 'Class2'\n",
      " 'Class2' 'Class2' 'Class2' 'Class1' 'Class1' 'Class1' 'Class2' 'Class2'\n",
      " 'Class1' 'Class1' 'Class1' 'Class1' 'Class2' 'Class2' 'Class2' 'Class1'\n",
      " 'Class1' 'Class2' 'Class2' 'Class2' 'Class2' 'Class1' 'Class2' 'Class1'\n",
      " 'Class1' 'Class1']\n"
     ]
    }
   ],
   "source": [
    "print(predictions)"
   ]
  },
  {
   "cell_type": "code",
   "execution_count": 56,
   "id": "a33dd4d6-f15f-4796-9f23-90a76249cc45",
   "metadata": {},
   "outputs": [],
   "source": [
    "df1=unlabeled_df.drop(columns=['Label'],axis=1)"
   ]
  },
  {
   "cell_type": "code",
   "execution_count": 57,
   "id": "1de6626a-38ac-452b-bb3b-7ee17c6c6304",
   "metadata": {},
   "outputs": [
    {
     "data": {
      "text/html": [
       "<div>\n",
       "<style scoped>\n",
       "    .dataframe tbody tr th:only-of-type {\n",
       "        vertical-align: middle;\n",
       "    }\n",
       "\n",
       "    .dataframe tbody tr th {\n",
       "        vertical-align: top;\n",
       "    }\n",
       "\n",
       "    .dataframe thead th {\n",
       "        text-align: right;\n",
       "    }\n",
       "</style>\n",
       "<table border=\"1\" class=\"dataframe\">\n",
       "  <thead>\n",
       "    <tr style=\"text-align: right;\">\n",
       "      <th></th>\n",
       "      <th>point</th>\n",
       "      <th>Value</th>\n",
       "      <th>Label_k30</th>\n",
       "    </tr>\n",
       "  </thead>\n",
       "  <tbody>\n",
       "    <tr>\n",
       "      <th>50</th>\n",
       "      <td>x51</td>\n",
       "      <td>0.969585</td>\n",
       "      <td>Class2</td>\n",
       "    </tr>\n",
       "    <tr>\n",
       "      <th>51</th>\n",
       "      <td>x52</td>\n",
       "      <td>0.775133</td>\n",
       "      <td>Class2</td>\n",
       "    </tr>\n",
       "    <tr>\n",
       "      <th>52</th>\n",
       "      <td>x53</td>\n",
       "      <td>0.939499</td>\n",
       "      <td>Class2</td>\n",
       "    </tr>\n",
       "    <tr>\n",
       "      <th>53</th>\n",
       "      <td>x54</td>\n",
       "      <td>0.894827</td>\n",
       "      <td>Class2</td>\n",
       "    </tr>\n",
       "    <tr>\n",
       "      <th>54</th>\n",
       "      <td>x55</td>\n",
       "      <td>0.597900</td>\n",
       "      <td>Class2</td>\n",
       "    </tr>\n",
       "    <tr>\n",
       "      <th>55</th>\n",
       "      <td>x56</td>\n",
       "      <td>0.921874</td>\n",
       "      <td>Class2</td>\n",
       "    </tr>\n",
       "    <tr>\n",
       "      <th>56</th>\n",
       "      <td>x57</td>\n",
       "      <td>0.088493</td>\n",
       "      <td>Class1</td>\n",
       "    </tr>\n",
       "    <tr>\n",
       "      <th>57</th>\n",
       "      <td>x58</td>\n",
       "      <td>0.195983</td>\n",
       "      <td>Class1</td>\n",
       "    </tr>\n",
       "    <tr>\n",
       "      <th>58</th>\n",
       "      <td>x59</td>\n",
       "      <td>0.045227</td>\n",
       "      <td>Class1</td>\n",
       "    </tr>\n",
       "    <tr>\n",
       "      <th>59</th>\n",
       "      <td>x60</td>\n",
       "      <td>0.325330</td>\n",
       "      <td>Class1</td>\n",
       "    </tr>\n",
       "    <tr>\n",
       "      <th>60</th>\n",
       "      <td>x61</td>\n",
       "      <td>0.388677</td>\n",
       "      <td>Class1</td>\n",
       "    </tr>\n",
       "    <tr>\n",
       "      <th>61</th>\n",
       "      <td>x62</td>\n",
       "      <td>0.271349</td>\n",
       "      <td>Class1</td>\n",
       "    </tr>\n",
       "    <tr>\n",
       "      <th>62</th>\n",
       "      <td>x63</td>\n",
       "      <td>0.828738</td>\n",
       "      <td>Class2</td>\n",
       "    </tr>\n",
       "    <tr>\n",
       "      <th>63</th>\n",
       "      <td>x64</td>\n",
       "      <td>0.356753</td>\n",
       "      <td>Class1</td>\n",
       "    </tr>\n",
       "    <tr>\n",
       "      <th>64</th>\n",
       "      <td>x65</td>\n",
       "      <td>0.280935</td>\n",
       "      <td>Class1</td>\n",
       "    </tr>\n",
       "    <tr>\n",
       "      <th>65</th>\n",
       "      <td>x66</td>\n",
       "      <td>0.542696</td>\n",
       "      <td>Class2</td>\n",
       "    </tr>\n",
       "    <tr>\n",
       "      <th>66</th>\n",
       "      <td>x67</td>\n",
       "      <td>0.140924</td>\n",
       "      <td>Class1</td>\n",
       "    </tr>\n",
       "    <tr>\n",
       "      <th>67</th>\n",
       "      <td>x68</td>\n",
       "      <td>0.802197</td>\n",
       "      <td>Class2</td>\n",
       "    </tr>\n",
       "    <tr>\n",
       "      <th>68</th>\n",
       "      <td>x69</td>\n",
       "      <td>0.074551</td>\n",
       "      <td>Class1</td>\n",
       "    </tr>\n",
       "    <tr>\n",
       "      <th>69</th>\n",
       "      <td>x70</td>\n",
       "      <td>0.986887</td>\n",
       "      <td>Class2</td>\n",
       "    </tr>\n",
       "    <tr>\n",
       "      <th>70</th>\n",
       "      <td>x71</td>\n",
       "      <td>0.772245</td>\n",
       "      <td>Class2</td>\n",
       "    </tr>\n",
       "    <tr>\n",
       "      <th>71</th>\n",
       "      <td>x72</td>\n",
       "      <td>0.198716</td>\n",
       "      <td>Class1</td>\n",
       "    </tr>\n",
       "    <tr>\n",
       "      <th>72</th>\n",
       "      <td>x73</td>\n",
       "      <td>0.005522</td>\n",
       "      <td>Class1</td>\n",
       "    </tr>\n",
       "    <tr>\n",
       "      <th>73</th>\n",
       "      <td>x74</td>\n",
       "      <td>0.815461</td>\n",
       "      <td>Class2</td>\n",
       "    </tr>\n",
       "    <tr>\n",
       "      <th>74</th>\n",
       "      <td>x75</td>\n",
       "      <td>0.706857</td>\n",
       "      <td>Class2</td>\n",
       "    </tr>\n",
       "    <tr>\n",
       "      <th>75</th>\n",
       "      <td>x76</td>\n",
       "      <td>0.729007</td>\n",
       "      <td>Class2</td>\n",
       "    </tr>\n",
       "    <tr>\n",
       "      <th>76</th>\n",
       "      <td>x77</td>\n",
       "      <td>0.771270</td>\n",
       "      <td>Class2</td>\n",
       "    </tr>\n",
       "    <tr>\n",
       "      <th>77</th>\n",
       "      <td>x78</td>\n",
       "      <td>0.074045</td>\n",
       "      <td>Class1</td>\n",
       "    </tr>\n",
       "    <tr>\n",
       "      <th>78</th>\n",
       "      <td>x79</td>\n",
       "      <td>0.358466</td>\n",
       "      <td>Class1</td>\n",
       "    </tr>\n",
       "    <tr>\n",
       "      <th>79</th>\n",
       "      <td>x80</td>\n",
       "      <td>0.115869</td>\n",
       "      <td>Class1</td>\n",
       "    </tr>\n",
       "    <tr>\n",
       "      <th>80</th>\n",
       "      <td>x81</td>\n",
       "      <td>0.863103</td>\n",
       "      <td>Class2</td>\n",
       "    </tr>\n",
       "    <tr>\n",
       "      <th>81</th>\n",
       "      <td>x82</td>\n",
       "      <td>0.623298</td>\n",
       "      <td>Class2</td>\n",
       "    </tr>\n",
       "    <tr>\n",
       "      <th>82</th>\n",
       "      <td>x83</td>\n",
       "      <td>0.330898</td>\n",
       "      <td>Class1</td>\n",
       "    </tr>\n",
       "    <tr>\n",
       "      <th>83</th>\n",
       "      <td>x84</td>\n",
       "      <td>0.063558</td>\n",
       "      <td>Class1</td>\n",
       "    </tr>\n",
       "    <tr>\n",
       "      <th>84</th>\n",
       "      <td>x85</td>\n",
       "      <td>0.310982</td>\n",
       "      <td>Class1</td>\n",
       "    </tr>\n",
       "    <tr>\n",
       "      <th>85</th>\n",
       "      <td>x86</td>\n",
       "      <td>0.325183</td>\n",
       "      <td>Class1</td>\n",
       "    </tr>\n",
       "    <tr>\n",
       "      <th>86</th>\n",
       "      <td>x87</td>\n",
       "      <td>0.729606</td>\n",
       "      <td>Class2</td>\n",
       "    </tr>\n",
       "    <tr>\n",
       "      <th>87</th>\n",
       "      <td>x88</td>\n",
       "      <td>0.637557</td>\n",
       "      <td>Class2</td>\n",
       "    </tr>\n",
       "    <tr>\n",
       "      <th>88</th>\n",
       "      <td>x89</td>\n",
       "      <td>0.887213</td>\n",
       "      <td>Class2</td>\n",
       "    </tr>\n",
       "    <tr>\n",
       "      <th>89</th>\n",
       "      <td>x90</td>\n",
       "      <td>0.472215</td>\n",
       "      <td>Class1</td>\n",
       "    </tr>\n",
       "    <tr>\n",
       "      <th>90</th>\n",
       "      <td>x91</td>\n",
       "      <td>0.119594</td>\n",
       "      <td>Class1</td>\n",
       "    </tr>\n",
       "    <tr>\n",
       "      <th>91</th>\n",
       "      <td>x92</td>\n",
       "      <td>0.713245</td>\n",
       "      <td>Class2</td>\n",
       "    </tr>\n",
       "    <tr>\n",
       "      <th>92</th>\n",
       "      <td>x93</td>\n",
       "      <td>0.760785</td>\n",
       "      <td>Class2</td>\n",
       "    </tr>\n",
       "    <tr>\n",
       "      <th>93</th>\n",
       "      <td>x94</td>\n",
       "      <td>0.561277</td>\n",
       "      <td>Class2</td>\n",
       "    </tr>\n",
       "    <tr>\n",
       "      <th>94</th>\n",
       "      <td>x95</td>\n",
       "      <td>0.770967</td>\n",
       "      <td>Class2</td>\n",
       "    </tr>\n",
       "    <tr>\n",
       "      <th>95</th>\n",
       "      <td>x96</td>\n",
       "      <td>0.493796</td>\n",
       "      <td>Class1</td>\n",
       "    </tr>\n",
       "    <tr>\n",
       "      <th>96</th>\n",
       "      <td>x97</td>\n",
       "      <td>0.522733</td>\n",
       "      <td>Class2</td>\n",
       "    </tr>\n",
       "    <tr>\n",
       "      <th>97</th>\n",
       "      <td>x98</td>\n",
       "      <td>0.427541</td>\n",
       "      <td>Class1</td>\n",
       "    </tr>\n",
       "    <tr>\n",
       "      <th>98</th>\n",
       "      <td>x99</td>\n",
       "      <td>0.025419</td>\n",
       "      <td>Class1</td>\n",
       "    </tr>\n",
       "    <tr>\n",
       "      <th>99</th>\n",
       "      <td>x100</td>\n",
       "      <td>0.107891</td>\n",
       "      <td>Class1</td>\n",
       "    </tr>\n",
       "  </tbody>\n",
       "</table>\n",
       "</div>"
      ],
      "text/plain": [
       "   point     Value Label_k30\n",
       "50   x51  0.969585    Class2\n",
       "51   x52  0.775133    Class2\n",
       "52   x53  0.939499    Class2\n",
       "53   x54  0.894827    Class2\n",
       "54   x55  0.597900    Class2\n",
       "55   x56  0.921874    Class2\n",
       "56   x57  0.088493    Class1\n",
       "57   x58  0.195983    Class1\n",
       "58   x59  0.045227    Class1\n",
       "59   x60  0.325330    Class1\n",
       "60   x61  0.388677    Class1\n",
       "61   x62  0.271349    Class1\n",
       "62   x63  0.828738    Class2\n",
       "63   x64  0.356753    Class1\n",
       "64   x65  0.280935    Class1\n",
       "65   x66  0.542696    Class2\n",
       "66   x67  0.140924    Class1\n",
       "67   x68  0.802197    Class2\n",
       "68   x69  0.074551    Class1\n",
       "69   x70  0.986887    Class2\n",
       "70   x71  0.772245    Class2\n",
       "71   x72  0.198716    Class1\n",
       "72   x73  0.005522    Class1\n",
       "73   x74  0.815461    Class2\n",
       "74   x75  0.706857    Class2\n",
       "75   x76  0.729007    Class2\n",
       "76   x77  0.771270    Class2\n",
       "77   x78  0.074045    Class1\n",
       "78   x79  0.358466    Class1\n",
       "79   x80  0.115869    Class1\n",
       "80   x81  0.863103    Class2\n",
       "81   x82  0.623298    Class2\n",
       "82   x83  0.330898    Class1\n",
       "83   x84  0.063558    Class1\n",
       "84   x85  0.310982    Class1\n",
       "85   x86  0.325183    Class1\n",
       "86   x87  0.729606    Class2\n",
       "87   x88  0.637557    Class2\n",
       "88   x89  0.887213    Class2\n",
       "89   x90  0.472215    Class1\n",
       "90   x91  0.119594    Class1\n",
       "91   x92  0.713245    Class2\n",
       "92   x93  0.760785    Class2\n",
       "93   x94  0.561277    Class2\n",
       "94   x95  0.770967    Class2\n",
       "95   x96  0.493796    Class1\n",
       "96   x97  0.522733    Class2\n",
       "97   x98  0.427541    Class1\n",
       "98   x99  0.025419    Class1\n",
       "99  x100  0.107891    Class1"
      ]
     },
     "execution_count": 57,
     "metadata": {},
     "output_type": "execute_result"
    }
   ],
   "source": [
    "df1"
   ]
  },
  {
   "cell_type": "code",
   "execution_count": 47,
   "id": "78a9d193-d93e-4ba6-beaa-e153691df1ff",
   "metadata": {},
   "outputs": [
    {
     "name": "stdout",
     "output_type": "stream",
     "text": [
      "\n",
      " Accuracies for different k values:\n",
      "k=30:100.00%\n"
     ]
    }
   ],
   "source": [
    "print(\"\\n Accuracies for different k values:\")\n",
    "for k,acc in accuracies.items():\n",
    "    print(f\"k={k}:{acc:.2f}%\")"
   ]
  },
  {
   "cell_type": "code",
   "execution_count": null,
   "id": "aec21c1e-615f-40d8-a8c7-0423e49a7f9d",
   "metadata": {},
   "outputs": [],
   "source": []
  }
 ],
 "metadata": {
  "kernelspec": {
   "display_name": "Python 3 (ipykernel)",
   "language": "python",
   "name": "python3"
  },
  "language_info": {
   "codemirror_mode": {
    "name": "ipython",
    "version": 3
   },
   "file_extension": ".py",
   "mimetype": "text/x-python",
   "name": "python",
   "nbconvert_exporter": "python",
   "pygments_lexer": "ipython3",
   "version": "3.11.7"
  }
 },
 "nbformat": 4,
 "nbformat_minor": 5
}
